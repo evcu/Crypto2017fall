{
 "cells": [
  {
   "cell_type": "code",
   "execution_count": 1,
   "metadata": {},
   "outputs": [
    {
     "data": {
      "text/plain": [
       "u'0.21.0'"
      ]
     },
     "execution_count": 1,
     "metadata": {},
     "output_type": "execute_result"
    }
   ],
   "source": [
    "import pandas\n",
    "pandas.__version__"
   ]
  },
  {
   "cell_type": "code",
   "execution_count": 2,
   "metadata": {
    "collapsed": true
   },
   "outputs": [],
   "source": [
    "from collections import defaultdict\n",
    "inps = {}\n",
    "outs = {}\n",
    "txs = {}\n",
    "\n",
    "def readIntoDict(d,f_name,key_index):\n",
    "    with open(f_name,'r') as f:\n",
    "        for l in f:\n",
    "            arr=l.split(',')\n",
    "            k = int(arr[key_index])\n",
    "            del arr[key_index]\n",
    "            d[k] = tuple(map(int,arr))\n",
    "readIntoDict(inps,'inputs.csv',0)\n",
    "readIntoDict(outs,'outputs.csv',0)\n",
    "readIntoDict(txs,'transactions.csv',0)\n"
   ]
  },
  {
   "cell_type": "code",
   "execution_count": 3,
   "metadata": {
    "collapsed": true
   },
   "outputs": [],
   "source": [
    "inps_by_tx = defaultdict(list)\n",
    "inps_by_out = defaultdict(list)\n",
    "outs_by_tx = defaultdict(list)\n",
    "txs_by_blk = defaultdict(list)\n",
    "\n",
    "def groupByFirstColumn(dict_new,dict_id,i=0):\n",
    "    for k,v in dict_id.iteritems():\n",
    "          dict_new[v[i]].append(k)\n",
    "groupByFirstColumn(inps_by_tx,inps)\n",
    "groupByFirstColumn(inps_by_out,inps,i=1)\n",
    "groupByFirstColumn(outs_by_tx,outs)\n",
    "groupByFirstColumn(txs_by_blk,txs)\n"
   ]
  },
  {
   "cell_type": "code",
   "execution_count": 4,
   "metadata": {},
   "outputs": [],
   "source": [
    "class Checker(object):\n",
    "    def __init__(self):\n",
    "        self.txo = set() #outputs that is spent\n",
    "    \n",
    "    def checkInputs(s,t_id,block_id):\n",
    "        tx_inputs = [inps[i][-1] for i in inps_by_tx[t_id]]\n",
    "        tx_outputs = [o for o in outs_by_tx[t_id]]\n",
    "        if len(set(tx_inputs) & set(tx_outputs) ) != 0:\n",
    "            print 'ERROR:Output transaction cannot be input'\n",
    "            print t_id,tx_inputs,tx_outputs,block_id\n",
    "            return False\n",
    "        if len(tx_inputs) != len(set(tx_inputs)): \n",
    "            print 'ERROR:There are two inputs pointing the same previous output'\n",
    "            print t_id,tx_inputs,block_id\n",
    "            return False\n",
    "        for o in tx_inputs:\n",
    "            if o not in outs:\n",
    "                print 'ERROR:Output script is not correct/doesn\\'t exists' \n",
    "                print t_id,tx_inputs,block_id\n",
    "                return False\n",
    "#         for i_id in tx_inputs:\n",
    "#             prev_out = outs[inps[i_id][1]]\n",
    "#             isCoinbase = txs[prev_out[0]][-1] #prev_out[0] -> tx_id [-1]->iscoinbase\n",
    "#             if isCoinbase and block_id-txs[prev_out[0]][0]<100: #[0]->block_id\n",
    "#                 print 'You cant spend a reward before 100 confirmation'\n",
    "#                 print 'Block','Transaction_id','input_id'\n",
    "#                 print block_id,t_id,i_id\n",
    "#                 return False   \n",
    "        return True\n",
    "    \n",
    "    def checkBlockSum(s,tx_ids,block_id):\n",
    "        output_sum = input_sum = 0\n",
    "        for t_id in tx_ids:\n",
    "            tx = txs[t_id]\n",
    "            if not s.checkInputs(t_id,block_id):\n",
    "                return False\n",
    "            tx_inputs = set(inps_by_tx[t_id])\n",
    "            tx_outputs = set(outs_by_tx[t_id])\n",
    "            c\n",
    "            for i_id in tx_inputs:\n",
    "                if inps[i_id][-1] not in s.txo: #in current outputs or previous\n",
    "                    input_sum += outs[inps[i_id][1]][-1] #[1] for output_id, [-1] for value\n",
    "                else:\n",
    "                    print 'ERROR:output %d already used. Called from i_id: %d,t_id: %d' % (inps[i_id][1],i_id,t_id)\n",
    "                    return False\n",
    "            for o_id in tx_outputs:\n",
    "                    output_sum += outs[o_id][-1] #[-1] for value\n",
    "        if output_sum - input_sum > 5000000000:\n",
    "            print 'ERROR:Sum is not correct'\n",
    "            print output_sum - input_sum \n",
    "            return False\n",
    "        else:\n",
    "            s.txo.update(set([inps[i][-1] for i in tx_inputs]))\n",
    "            return True\n",
    "    def checkBlockBasic(s,block_id):\n",
    "        tx_ids = txs_by_blk[block_id]\n",
    "\n",
    "        if len(set(tx_ids)) != len(tx_ids):\n",
    "            print 'ERROR:Error multiple txs with same id!'\n",
    "            print tx_ids\n",
    "            return False\n",
    "        coinbase_txs = [i for i in tx_ids if txs[i][-1]==1]\n",
    "        if len(coinbase_txs) != 1:\n",
    "            print 'ERROR:Multiple coinbase transactions!'\n",
    "            print coinbase_txs\n",
    "            return False\n",
    "        coinbase_output_sum = sum([outs[o][-1] for o in (outs_by_tx[coinbase_txs[0]])])\n",
    "        if coinbase_output_sum < 5000000000:\n",
    "            print 'WARNING coinbase sum is less than the reward, wth might be wrong', coinbase_txs[0]\n",
    "        if inps_by_tx[coinbase_txs[0]]:\n",
    "            print 'ERROR:Coinbase transactions can\\'t have input!'\n",
    "            print 'tx: %d, b_id: %d ' % (coinbase_txs[0],block_id)\n",
    "            return False\n",
    "        if not s.checkBlockSum(tx_ids,block_id):\n",
    "            return False\n",
    "        return True\n",
    "                "
   ]
  },
  {
   "cell_type": "code",
   "execution_count": 5,
   "metadata": {},
   "outputs": [
    {
     "data": {
      "text/plain": [
       "True"
      ]
     },
     "execution_count": 5,
     "metadata": {},
     "output_type": "execute_result"
    }
   ],
   "source": [
    "cc = Checker()\n",
    "cc.checkBlockBasic(30446)"
   ]
  },
  {
   "cell_type": "code",
   "execution_count": 6,
   "metadata": {},
   "outputs": [
    {
     "name": "stdout",
     "output_type": "stream",
     "text": [
      "[(7998, 2), (21928, 2), (65403, 2), (249860, 2)]\n",
      "521 (8231, 7998)\n",
      "777 (12152, 7998)\n",
      "2889 (30446, 21928)\n",
      "2890 (30446, 21928)\n",
      "20180 (61843, 65403)\n",
      "20183 (61845, 65403)\n",
      "179006 (204751, 249860)\n",
      "182185 (207365, 249860)\n"
     ]
    }
   ],
   "source": [
    "from collections import Counter\n",
    "no_unique = [(k,v) for k,v in Counter([v[-1] for v in inps.values()]).items() if v!=1]\n",
    "print no_unique\n",
    "inps_appended =  [(inps_by_out[i],i) for i,_ in no_unique]\n",
    "for iss,dup_out in inps_appended:\n",
    "    for i in iss:\n",
    "        print i,inps[i]"
   ]
  },
  {
   "cell_type": "code",
   "execution_count": 7,
   "metadata": {},
   "outputs": [
    {
     "name": "stdout",
     "output_type": "stream",
     "text": [
      "ERROR:Sum is not correct\n",
      "5000000010\n",
      "11181 [11281, 11282]\n",
      "---------\n",
      "ERROR:output 7998 already used. Called from i_id: 777,t_id: 12152\n",
      "12042 [12151, 12152]\n",
      "---------\n",
      "ERROR:Output script is not correct/doesn't exists\n",
      "15698 [265834] 15567\n",
      "15567 [15697, 15698]\n",
      "---------\n",
      "ERROR:There are two inputs pointing the same previous output\n",
      "30446 [21928, 21928] 30223\n",
      "30223 [30445, 30446]\n",
      "---------\n",
      "ERROR:Multiple coinbase transactions!\n",
      "[56851, 56853]\n",
      "52534 [56851, 56852, 56853]\n",
      "---------\n",
      "ERROR:Sum is not correct\n",
      "5000000010\n",
      "72902 [100928, 100929]\n",
      "---------\n",
      "ERROR:Output transaction cannot be input\n",
      "137237 [156879, 166481] [166481, 166482] 88755\n",
      "88755 [137236, 137237]\n",
      "---------\n",
      "ERROR:output 249860 already used. Called from i_id: 182185,t_id: 207365\n",
      "97423 [207356, 207357, 207358, 207359, 207360, 207361, 207362, 207363, 207364, 207365, 207366, 207367, 207368]\n",
      "---------\n"
     ]
    }
   ],
   "source": [
    "from collections import Counter\n",
    "cc = Checker()\n",
    "invalidBlocks = set()\n",
    "for k in sorted(txs_by_blk.keys()):\n",
    "    if not cc.checkBlockBasic(k):\n",
    "        print k,txs_by_blk[k]\n",
    "        print '---------'\n",
    "        invalidBlocks.add(k)\n",
    "#print cc.txo"
   ]
  },
  {
   "cell_type": "code",
   "execution_count": 21,
   "metadata": {},
   "outputs": [],
   "source": [
    "class GraphSearch(object):\n",
    "    def __init__(s,invalid_blocks=set()):\n",
    "        s.invalid_blocks = invalid_blocks\n",
    "        s.reset_search()\n",
    "    def reset_search(s):\n",
    "        s.seen_transactions = set()\n",
    "        for inv_b in s.invalid_blocks:\n",
    "            s.seen_transactions.update(txs_by_blk[inv_b])\n",
    "        s.utxo = set()\n",
    "    def dfs(s):\n",
    "        def dfs_helper(tx_id):\n",
    "            if tx_id not in s.seen_transactions:\n",
    "                #print tx_id\n",
    "                is_coinbase = txs[tx_id][1]\n",
    "                if is_coinbase:\n",
    "                    s.utxo.update(outs_by_tx[tx_id])\n",
    "                else:\n",
    "                    tx_inputs_outs = [inps[i][-1] for i in inps_by_tx[tx_id]]\n",
    "                    for tx_inp_out in tx_inputs_outs:\n",
    "                        dfs_helper(outs[tx_inp_out][0]) #tx of the output input points to. \n",
    "                        if tx_inp_out not in s.utxo:\n",
    "                            print 'ERROR input cannot be found, tx_id,tx_inp:%d,%d' %(tx_id,tx_inp_out)\n",
    "                    s.utxo.update(outs_by_tx[tx_id])\n",
    "                    s.utxo.difference_update(tx_inputs_outs)\n",
    "                s.seen_transactions.add(tx_id)\n",
    "                            \n",
    "        for tx_id in txs.keys():\n",
    "            dfs_helper(tx_id)\n"
   ]
  },
  {
   "cell_type": "code",
   "execution_count": 22,
   "metadata": {},
   "outputs": [
    {
     "data": {
      "text/plain": [
       "{11181, 12042, 15567, 30223, 52534, 72902, 88755, 97423}"
      ]
     },
     "execution_count": 22,
     "metadata": {},
     "output_type": "execute_result"
    }
   ],
   "source": [
    "invalidBlocks"
   ]
  },
  {
   "cell_type": "code",
   "execution_count": 23,
   "metadata": {},
   "outputs": [
    {
     "name": "stdout",
     "output_type": "stream",
     "text": [
      "ERROR input cannot be found, tx_id,tx_inp:61845,65403\n",
      "ERROR input cannot be found, tx_id,tx_inp:114916,60228\n",
      "ERROR input cannot be found, tx_id,tx_inp:204751,249860\n",
      "ERROR input cannot be found, tx_id,tx_inp:207370,249869\n",
      "ERROR input cannot be found, tx_id,tx_inp:208063,249859\n",
      "ERROR input cannot be found, tx_id,tx_inp:208084,249863\n",
      "ERROR input cannot be found, tx_id,tx_inp:208477,249852\n",
      "ERROR input cannot be found, tx_id,tx_inp:208644,249853\n",
      "ERROR input cannot be found, tx_id,tx_inp:209913,249855\n",
      "ERROR input cannot be found, tx_id,tx_inp:211792,249857\n",
      "ERROR input cannot be found, tx_id,tx_inp:213613,249856\n"
     ]
    }
   ],
   "source": [
    "gs = GraphSearch(invalidBlocks)\n",
    "gs.dfs()"
   ]
  },
  {
   "cell_type": "code",
   "execution_count": 171,
   "metadata": {},
   "outputs": [
    {
     "name": "stdout",
     "output_type": "stream",
     "text": [
      "(5000000000000, 236374)\n"
     ]
    }
   ],
   "source": [
    "print max(((outs[a][-1],a) for a in gs.utxo))"
   ]
  },
  {
   "cell_type": "code",
   "execution_count": 10,
   "metadata": {},
   "outputs": [],
   "source": [
    "ii = inps_by_out[65403]\n",
    "tt = [inps[i][0] for i in ii]"
   ]
  },
  {
   "cell_type": "code",
   "execution_count": 12,
   "metadata": {},
   "outputs": [
    {
     "name": "stdout",
     "output_type": "stream",
     "text": [
      "[61843, 61845]\n",
      "[56565, 56565]\n"
     ]
    }
   ],
   "source": [
    "print tt\n",
    "print [txs[t][0] for t in tt]"
   ]
  },
  {
   "cell_type": "code",
   "execution_count": 14,
   "metadata": {},
   "outputs": [
    {
     "name": "stdout",
     "output_type": "stream",
     "text": [
      "[61841, 61842, 61843, 61844, 61845]\n"
     ]
    }
   ],
   "source": [
    "print txs_by_blk[56565]"
   ]
  },
  {
   "cell_type": "code",
   "execution_count": null,
   "metadata": {
    "collapsed": true
   },
   "outputs": [],
   "source": []
  }
 ],
 "metadata": {
  "anaconda-cloud": {},
  "kernelspec": {
   "display_name": "Python [default]",
   "language": "python",
   "name": "python2"
  },
  "language_info": {
   "codemirror_mode": {
    "name": "ipython",
    "version": 2
   },
   "file_extension": ".py",
   "mimetype": "text/x-python",
   "name": "python",
   "nbconvert_exporter": "python",
   "pygments_lexer": "ipython2",
   "version": "2.7.12"
  }
 },
 "nbformat": 4,
 "nbformat_minor": 2
}
