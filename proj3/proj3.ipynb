{
 "cells": [
  {
   "cell_type": "code",
   "execution_count": 1,
   "metadata": {},
   "outputs": [
    {
     "data": {
      "text/plain": [
       "u'0.21.0'"
      ]
     },
     "execution_count": 1,
     "metadata": {},
     "output_type": "execute_result"
    }
   ],
   "source": [
    "import pandas\n",
    "pandas.__version__"
   ]
  },
  {
   "cell_type": "code",
   "execution_count": 43,
   "metadata": {
    "collapsed": true
   },
   "outputs": [],
   "source": [
    "from collections import defaultdict\n",
    "inps = {}\n",
    "outs = {}\n",
    "txs = {}\n",
    "\n",
    "def readIntoDict(d,f_name,key_index):\n",
    "    with open(f_name,'r') as f:\n",
    "        for l in f:\n",
    "            arr=l.split(',')\n",
    "            k = int(arr[key_index])\n",
    "            del arr[key_index]\n",
    "            d[k] = tuple(map(int,arr))\n",
    "readIntoDict(inps,'inputs.csv',0)\n",
    "readIntoDict(outs,'outputs.csv',0)\n",
    "readIntoDict(txs,'transactions.csv',0)\n"
   ]
  },
  {
   "cell_type": "code",
   "execution_count": 44,
   "metadata": {
    "collapsed": true
   },
   "outputs": [],
   "source": [
    "inps_by_tx = defaultdict(list)\n",
    "inps_by_out = defaultdict(list)\n",
    "outs_by_tx = defaultdict(list)\n",
    "txs_by_blk = defaultdict(list)\n",
    "\n",
    "def groupByFirstColumn(dict_new,dict_id,i=0):\n",
    "    for k,v in dict_id.iteritems():\n",
    "          dict_new[v[i]].append(k)\n",
    "groupByFirstColumn(inps_by_tx,inps)\n",
    "groupByFirstColumn(inps_by_out,inps,i=1)\n",
    "groupByFirstColumn(outs_by_tx,outs)\n",
    "groupByFirstColumn(txs_by_blk,txs)\n"
   ]
  },
  {
   "cell_type": "code",
   "execution_count": 45,
   "metadata": {
    "collapsed": true
   },
   "outputs": [],
   "source": [
    "class Checker(object):\n",
    "    def __init__(self):\n",
    "        self.txo = set() #outputs that is spent\n",
    "    \n",
    "    def checkInputs(s,t_id,block_id):\n",
    "        tx_inputs = [inps[i][-1] for i in inps_by_tx[t_id]]\n",
    "        tx_outputs = [o for o in outs_by_tx[t_id]]\n",
    "        if len(set(tx_inputs) & set(tx_outputs) ) != 0:\n",
    "            print 'ERROR:Output transaction cannot be input'\n",
    "            print t_id,tx_inputs,tx_outputs,block_id\n",
    "            return False\n",
    "        if len(tx_inputs) != len(set(tx_inputs)): \n",
    "            print 'ERROR:There are two inputs pointing the same previous output'\n",
    "            print t_id,tx_inputs,block_id\n",
    "            return False\n",
    "        for o in tx_inputs:\n",
    "            if o not in outs:\n",
    "                print 'ERROR:Output script is not correct/doesn\\'t exists' \n",
    "                print t_id,tx_inputs,block_id\n",
    "                return False\n",
    "        for o in tx_outputs:\n",
    "            if outs[o][-1]<0:\n",
    "                print 'ERROR:Output value cant be less <0.'\n",
    "                print t_id,tx_outputs,block_id\n",
    "                return False\n",
    "        return True\n",
    "    \n",
    "    def checkBlockSum(s,tx_ids,block_id):\n",
    "        output_sum = input_sum = 0\n",
    "        curr_txo = set()\n",
    "        for t_id in tx_ids:\n",
    "            tx = txs[t_id]\n",
    "            if not s.checkInputs(t_id,block_id):\n",
    "                return False\n",
    "            tx_inputs = set(inps_by_tx[t_id])\n",
    "            tx_outputs = set(outs_by_tx[t_id])\n",
    "            for i_id in tx_inputs:\n",
    "                prev_out = inps[i_id][-1]\n",
    "                if prev_out in s.txo:\n",
    "                    print 'ERROR:output %d already used in another block. Called from i_id: %d,t_id: %d,block_id: %d' % (prev_out,i_id,t_id,block_id)\n",
    "                    return False\n",
    "                elif prev_out in curr_txo: #\n",
    "                    print 'ERROR:output %d already used within same block. Called from i_id: %d,t_id: %d,block_id: %d' % (prev_out,i_id,t_id,block_id)\n",
    "                    return False\n",
    "                else:\n",
    "                    input_sum += outs[prev_out][-1] #[1] for output_id, [-1] for value\n",
    "                    curr_txo.add(prev_out)\n",
    "                   \n",
    "            for o_id in tx_outputs:\n",
    "                    output_sum += outs[o_id][-1] #[-1] for value\n",
    "        if output_sum - input_sum > 5000000000:\n",
    "            print 'ERROR:Sum is not correct'\n",
    "            print output_sum - input_sum \n",
    "            return False\n",
    "        else:\n",
    "            s.txo.update(set([inps[i][-1] for i in tx_inputs]))\n",
    "            return True\n",
    "    def checkBlockBasic(s,block_id):\n",
    "        tx_ids = txs_by_blk[block_id]\n",
    "\n",
    "        if len(set(tx_ids)) != len(tx_ids):\n",
    "            print 'ERROR:Error multiple txs with same id!'\n",
    "            print tx_ids\n",
    "            return False\n",
    "        coinbase_txs = [i for i in tx_ids if txs[i][-1]==1]\n",
    "        if len(coinbase_txs) != 1:\n",
    "            print 'ERROR:Multiple coinbase transactions!'\n",
    "            print coinbase_txs\n",
    "            return False\n",
    "        coinbase_output_sum = sum([outs[o][-1] for o in (outs_by_tx[coinbase_txs[0]])])\n",
    "        if coinbase_output_sum < 5000000000:\n",
    "            print 'WARNING coinbase sum is less than the reward, wth might be wrong', coinbase_txs[0]\n",
    "        if inps_by_tx[coinbase_txs[0]]:\n",
    "            print 'ERROR:Coinbase transactions can\\'t have input!'\n",
    "            print 'tx: %d, b_id: %d ' % (coinbase_txs[0],block_id)\n",
    "            return False\n",
    "        if not s.checkBlockSum(tx_ids,block_id):\n",
    "            return False\n",
    "        return True\n",
    "                "
   ]
  },
  {
   "cell_type": "code",
   "execution_count": 46,
   "metadata": {},
   "outputs": [
    {
     "name": "stdout",
     "output_type": "stream",
     "text": [
      "[(7998, 2), (21928, 2), (65403, 2), (249860, 2)]\n",
      "521 (8231, 7998)\n",
      "777 (12152, 7998)\n",
      "2889 (30446, 21928)\n",
      "2890 (30446, 21928)\n",
      "20180 (61843, 65403)\n",
      "20183 (61845, 65403)\n",
      "179006 (204751, 249860)\n",
      "182185 (207365, 249860)\n"
     ]
    }
   ],
   "source": [
    "from collections import Counter\n",
    "no_unique = [(k,v) for k,v in Counter([v[-1] for v in inps.values()]).items() if v!=1]\n",
    "print no_unique\n",
    "inps_appended =  [(inps_by_out[i],i) for i,_ in no_unique]\n",
    "for iss,dup_out in inps_appended:\n",
    "    for i in iss:\n",
    "        print i,inps[i]"
   ]
  },
  {
   "cell_type": "code",
   "execution_count": 47,
   "metadata": {},
   "outputs": [
    {
     "name": "stdout",
     "output_type": "stream",
     "text": [
      "ERROR:Sum is not correct\n",
      "5000000010\n",
      "11181 [11281, 11282]\n",
      "---------\n",
      "ERROR:output 7998 already used in another block. Called from i_id: 777,t_id: 12152,block_id: 12042\n",
      "12042 [12151, 12152]\n",
      "---------\n",
      "ERROR:Output script is not correct/doesn't exists\n",
      "15698 [265834] 15567\n",
      "15567 [15697, 15698]\n",
      "---------\n",
      "ERROR:There are two inputs pointing the same previous output\n",
      "30446 [21928, 21928] 30223\n",
      "30223 [30445, 30446]\n",
      "---------\n",
      "ERROR:Multiple coinbase transactions!\n",
      "[56851, 56853]\n",
      "52534 [56851, 56852, 56853]\n",
      "---------\n",
      "ERROR:output 65403 already used within same block. Called from i_id: 20183,t_id: 61845,block_id: 56565\n",
      "56565 [61841, 61842, 61843, 61844, 61845]\n",
      "---------\n",
      "ERROR:Sum is not correct\n",
      "5000000010\n",
      "72902 [100928, 100929]\n",
      "---------\n",
      "ERROR:Output value cant be less <0.\n",
      "105281 [123672] 75047\n",
      "75047 [105279, 105280, 105281]\n",
      "---------\n",
      "ERROR:Output transaction cannot be input\n",
      "137237 [156879, 166481] [166481, 166482] 88755\n",
      "88755 [137236, 137237]\n",
      "---------\n",
      "ERROR:output 249860 already used in another block. Called from i_id: 182185,t_id: 207365,block_id: 97423\n",
      "97423 [207356, 207357, 207358, 207359, 207360, 207361, 207362, 207363, 207364, 207365, 207366, 207367, 207368]\n",
      "---------\n"
     ]
    }
   ],
   "source": [
    "from collections import Counter\n",
    "cc = Checker()\n",
    "invalidBlocks = set()\n",
    "for k in sorted(txs_by_blk.keys()):\n",
    "    if not cc.checkBlockBasic(k):\n",
    "        print k,txs_by_blk[k]\n",
    "        print '---------'\n",
    "        invalidBlocks.add(k)\n",
    "#print cc.txo"
   ]
  },
  {
   "cell_type": "code",
   "execution_count": 48,
   "metadata": {},
   "outputs": [],
   "source": [
    "class GraphSearch(object):\n",
    "    def __init__(s,invalid_blocks=set()):\n",
    "        s.invalid_blocks = invalid_blocks\n",
    "        s.reset_search()\n",
    "    def reset_search(s):\n",
    "        s.seen_transactions = set()\n",
    "        for inv_b in s.invalid_blocks:\n",
    "            s.seen_transactions.update(txs_by_blk[inv_b])\n",
    "        s.utxo = set()\n",
    "    def dfs(s):\n",
    "        def dfs_helper(tx_id):\n",
    "            if tx_id not in s.seen_transactions:\n",
    "                #print tx_id\n",
    "                is_coinbase = txs[tx_id][1]\n",
    "                if is_coinbase:\n",
    "                    s.utxo.update(outs_by_tx[tx_id])\n",
    "                else:\n",
    "                    tx_inputs_outs = [inps[i][-1] for i in inps_by_tx[tx_id]]\n",
    "                    for tx_inp_out in tx_inputs_outs:\n",
    "                        dfs_helper(outs[tx_inp_out][0]) #tx of the output input points to. \n",
    "                        if tx_inp_out not in s.utxo:\n",
    "                            print 'ERROR input cannot be found, tx_id,tx_inp:%d,%d' %(tx_id,tx_inp_out)\n",
    "                    s.utxo.update(outs_by_tx[tx_id])\n",
    "                    s.utxo.difference_update(tx_inputs_outs)\n",
    "                s.seen_transactions.add(tx_id)\n",
    "                            \n",
    "        for tx_id in txs.keys():\n",
    "            dfs_helper(tx_id)\n"
   ]
  },
  {
   "cell_type": "code",
   "execution_count": 49,
   "metadata": {},
   "outputs": [
    {
     "data": {
      "text/plain": [
       "{11181, 12042, 15567, 30223, 52534, 56565, 72902, 75047, 88755, 97423}"
      ]
     },
     "execution_count": 49,
     "metadata": {},
     "output_type": "execute_result"
    }
   ],
   "source": [
    "invalidBlocks"
   ]
  },
  {
   "cell_type": "code",
   "execution_count": 50,
   "metadata": {},
   "outputs": [
    {
     "name": "stdout",
     "output_type": "stream",
     "text": [
      "ERROR input cannot be found, tx_id,tx_inp:114916,60228\n",
      "ERROR input cannot be found, tx_id,tx_inp:204751,249860\n",
      "ERROR input cannot be found, tx_id,tx_inp:207370,249869\n",
      "ERROR input cannot be found, tx_id,tx_inp:208063,249859\n",
      "ERROR input cannot be found, tx_id,tx_inp:208084,249863\n",
      "ERROR input cannot be found, tx_id,tx_inp:208477,249852\n",
      "ERROR input cannot be found, tx_id,tx_inp:208644,249853\n",
      "ERROR input cannot be found, tx_id,tx_inp:209913,249855\n",
      "ERROR input cannot be found, tx_id,tx_inp:211792,249857\n",
      "ERROR input cannot be found, tx_id,tx_inp:213613,249856\n"
     ]
    }
   ],
   "source": [
    "gs = GraphSearch(invalidBlocks)\n",
    "gs.dfs()"
   ]
  },
  {
   "cell_type": "code",
   "execution_count": 12,
   "metadata": {},
   "outputs": [
    {
     "name": "stdout",
     "output_type": "stream",
     "text": [
      "71889\n"
     ]
    }
   ],
   "source": [
    "print len(sorted([(outs[a][-1],a) for a in gs.utxo],reverse=True))"
   ]
  },
  {
   "cell_type": "code",
   "execution_count": 51,
   "metadata": {},
   "outputs": [
    {
     "name": "stdout",
     "output_type": "stream",
     "text": [
      "{0: 1, 1: 2, 2: 4, 3: 5, 4: 6, 5: 7}\n"
     ]
    }
   ],
   "source": [
    "a={i:i+1 for i in range(4)}\n",
    "a.update({i:i+2 for i in range(2,6)})\n",
    "print a\n"
   ]
  },
  {
   "cell_type": "code",
   "execution_count": 52,
   "metadata": {
    "collapsed": true
   },
   "outputs": [],
   "source": [
    "class EntityGroupingSearch(object):\n",
    "    def __init__(s,invalid_blocks=set()):\n",
    "        s.invalid_blocks = invalid_blocks\n",
    "        s.reset_search()\n",
    "    def reset_search(s):\n",
    "        s.txlabels = {}\n",
    "        #Prelabeling invalid tx's\n",
    "        for inv_b in s.invalid_blocks:\n",
    "            s.txlabels.update({tx:-1 for tx in txs_by_blk[inv_b]})\n",
    "        \n",
    "    def dfs(s):\n",
    "        def dfs_helper(tx_id,label_id):\n",
    "            if tx_id not in s.txlabels:\n",
    "                s.txlabels[tx_id] = label_id\n",
    "                if len(outs_by_tx[tx_id]) == 1: #one owner!\n",
    "                    dfs_helper(outs[outs_by_tx[tx_id][0]][0],label_id)\n",
    "                    for i in inps_by_tx[tx_id]:\n",
    "                        dfs_helper(inps[i][0],label_id)\n",
    "            elif s.txlabels[tx_id] == 0:\n",
    "                s.txlabels[tx_id]=label_id\n",
    "                            \n",
    "        i = 0\n",
    "        for tx_id in txs.keys():\n",
    "            if tx_id not in s.txlabels:\n",
    "                i+=1\n",
    "                dfs_helper(tx_id,i)\n"
   ]
  },
  {
   "cell_type": "code",
   "execution_count": 53,
   "metadata": {
    "collapsed": true
   },
   "outputs": [],
   "source": [
    "egs = EntityGroupingSearch(invalidBlocks)\n",
    "egs.dfs()"
   ]
  },
  {
   "cell_type": "code",
   "execution_count": 54,
   "metadata": {
    "collapsed": true
   },
   "outputs": [],
   "source": [
    "from collections import defaultdict\n",
    "persons = defaultdict(list)\n",
    "for o in gs.utxo:\n",
    "    persons[egs.txlabels[outs[o][0]]].append(o)"
   ]
  },
  {
   "cell_type": "code",
   "execution_count": 55,
   "metadata": {},
   "outputs": [],
   "source": [
    "max_person = max(((len(outs),p) for p,outs in persons.iteritems()))"
   ]
  },
  {
   "cell_type": "code",
   "execution_count": 73,
   "metadata": {},
   "outputs": [
    {
     "name": "stdout",
     "output_type": "stream",
     "text": [
      "47\n",
      "6\n",
      "83\n"
     ]
    }
   ],
   "source": [
    "person_total_balances = {}\n",
    "for p,os in persons.iteritems():\n",
    "    if len(os) > 2:\n",
    "        print len(os)\n",
    "        person_total_balances[p] = sum([outs[o][-1] for o in os])"
   ]
  },
  {
   "cell_type": "code",
   "execution_count": 74,
   "metadata": {},
   "outputs": [
    {
     "data": {
      "text/plain": [
       "[(739781718, 202350), (2699570786, 205816), (3943806703, 213004)]"
      ]
     },
     "execution_count": 74,
     "metadata": {},
     "output_type": "execute_result"
    }
   ],
   "source": [
    "sorted([(v,k) for k,v in person_total_balances.items()])"
   ]
  },
  {
   "cell_type": "code",
   "execution_count": 75,
   "metadata": {},
   "outputs": [
    {
     "data": {
      "text/plain": [
       "[242609, 242612, 242613, 242616, 242621, 242626]"
      ]
     },
     "execution_count": 75,
     "metadata": {},
     "output_type": "execute_result"
    }
   ],
   "source": [
    "persons[202350]"
   ]
  },
  {
   "cell_type": "code",
   "execution_count": 67,
   "metadata": {},
   "outputs": [
    {
     "data": {
      "text/plain": [
       "(140479, 138895, 9000000000000)"
      ]
     },
     "execution_count": 67,
     "metadata": {},
     "output_type": "execute_result"
    }
   ],
   "source": [
    "outs[170430]"
   ]
  },
  {
   "cell_type": "code",
   "execution_count": null,
   "metadata": {
    "collapsed": true
   },
   "outputs": [],
   "source": []
  }
 ],
 "metadata": {
  "anaconda-cloud": {},
  "kernelspec": {
   "display_name": "Python [default]",
   "language": "python",
   "name": "python2"
  },
  "language_info": {
   "codemirror_mode": {
    "name": "ipython",
    "version": 2
   },
   "file_extension": ".py",
   "mimetype": "text/x-python",
   "name": "python",
   "nbconvert_exporter": "python",
   "pygments_lexer": "ipython2",
   "version": "2.7.12"
  }
 },
 "nbformat": 4,
 "nbformat_minor": 2
}
